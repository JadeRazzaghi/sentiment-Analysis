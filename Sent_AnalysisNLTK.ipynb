{
  "nbformat": 4,
  "nbformat_minor": 0,
  "metadata": {
    "kernelspec": {
      "display_name": "Python 3",
      "language": "python",
      "name": "python3"
    },
    "language_info": {
      "codemirror_mode": {
        "name": "ipython",
        "version": 3
      },
      "file_extension": ".py",
      "mimetype": "text/x-python",
      "name": "python",
      "nbconvert_exporter": "python",
      "pygments_lexer": "ipython3",
      "version": "3.8.3"
    },
    "colab": {
      "name": "Sent-AnalysisNLTK.ipynb",
      "provenance": []
    }
  },
  "cells": [
    {
      "cell_type": "code",
      "metadata": {
        "id": "N9fGGLT4WcRY"
      },
      "source": [
        "import nltk\n",
        "import random\n",
        "import pandas as pd\n",
        "from nltk.corpus import movie_reviews\n",
        "nltk.download('movie_reviews')"
      ],
      "execution_count": null,
      "outputs": []
    },
    {
      "cell_type": "code",
      "metadata": {
        "id": "6J_RNpcmWcRZ"
      },
      "source": [
        "document=[(list(movie_reviews.words(fileid)), category) for category in movie_reviews.categories()for fileid in movie_reviews.fileids(category)]\n",
        "# it is a typle that have words and they are our features, so list of words for a file id\n",
        "#second part is for categorying negative and positive\n",
        "#this document is used for training\n",
        "#make it not a one line we can write like this too:\n",
        "#document=[]\n",
        "#for category in movie_reviews.categories():\n",
        "    #for fileid in movie_reviews.fileids(category):\n",
        "        #document.append=[(list(movie_reviews.words(fileid)), category)]"
      ],
      "execution_count": null,
      "outputs": []
    },
    {
      "cell_type": "code",
      "metadata": {
        "id": "dG-8aZD8WcRa"
      },
      "source": [
        "random.shuffle(document)\n",
        "print(document[1])"
      ],
      "execution_count": null,
      "outputs": []
    },
    {
      "cell_type": "code",
      "metadata": {
        "id": "y_zUdddwWcRa"
      },
      "source": [
        "all_words=[]\n",
        "for word in movie_reviews.words():\n",
        "    all_words.append(word.lower())\n",
        "#to check the frequency of certain words:\n",
        "all_words=nltk.FreqDist(all_words)#ordered as the most common to the least its like keys and values\n",
        "#print (all_words.most_common(15)))\n",
        "#print(all_words[\"stupid\"]) how many times stupid appear in data\n",
        " \n"
      ],
      "execution_count": null,
      "outputs": []
    },
    {
      "cell_type": "code",
      "metadata": {
        "id": "24TrN2XfWcRa"
      },
      "source": [
        "words_features=list(all_words.keys())[:3000]#to limit the number of words we use and we want the words and not how many of them so we just put keys\n",
        "#this function find our 3000 words in the pos/neg documents\n",
        "def find_features(doc):\n",
        "    words=set(doc)# so the first part of document we had a list of words but we use set we get all words \n",
        "    features={}\n",
        "    for word in words_features:\n",
        "        features[word]=(word in words)# in this feature dic the key in this 3000 words will be equal to the word in the word set, if a word in 3000 is in the document then this brings true\n",
        "    return features"
      ],
      "execution_count": null,
      "outputs": []
    },
    {
      "cell_type": "code",
      "metadata": {
        "id": "96_4AqKSWcRb"
      },
      "source": [
        "#we can print 1 feature set\n",
        "print((find_features(movie_reviews.words('neg/cv000_29416.txt'))))"
      ],
      "execution_count": null,
      "outputs": []
    },
    {
      "cell_type": "code",
      "metadata": {
        "id": "_WWcxfCZWcRb"
      },
      "source": [
        "featuresets = [(find_features(rev), category) for (rev, category) in document]\n",
        "#featuresets"
      ],
      "execution_count": null,
      "outputs": []
    },
    {
      "cell_type": "code",
      "metadata": {
        "id": "zeEhmMzMWcRb",
        "outputId": "a0ba9659-4b9f-4a49-c350-f2bc34590ee1"
      },
      "source": [
        "# train Naive bayes\n",
        "#split data\n",
        "train_set=featuresets[:1900]\n",
        "test_set=featuresets[1900:]\n",
        "classifier=nltk.NaiveBayesClassifier.train(train_set)\n",
        "#check accuracy\n",
        "print(\"NBayes accuracy percent:\", nltk.classify.accuracy(classifier, train_set)*100)\n",
        "#to show most informative features\n",
        "classifier.show_most_informative_features(15)\n"
      ],
      "execution_count": null,
      "outputs": [
        {
          "name": "stdout",
          "output_type": "stream",
          "text": [
            "NBayes accuracy percent: 89.31578947368422\n",
            "Most Informative Features\n",
            "                 idiotic = True              neg : pos    =     13.0 : 1.0\n",
            "               atrocious = True              neg : pos    =     11.3 : 1.0\n",
            "                   sucks = True              neg : pos    =     10.3 : 1.0\n",
            "                  annual = True              pos : neg    =     10.0 : 1.0\n",
            "                 frances = True              pos : neg    =      9.3 : 1.0\n",
            "                 miscast = True              neg : pos    =      8.4 : 1.0\n",
            "           unimaginative = True              neg : pos    =      8.1 : 1.0\n",
            "                  regard = True              pos : neg    =      7.2 : 1.0\n",
            "             silverstone = True              neg : pos    =      6.8 : 1.0\n",
            "                  suvari = True              neg : pos    =      6.8 : 1.0\n",
            "                  shoddy = True              neg : pos    =      6.8 : 1.0\n",
            "                    mena = True              neg : pos    =      6.8 : 1.0\n",
            "              schumacher = True              neg : pos    =      6.8 : 1.0\n",
            "                obstacle = True              pos : neg    =      6.5 : 1.0\n",
            "                  turkey = True              neg : pos    =      6.1 : 1.0\n"
          ]
        }
      ]
    },
    {
      "cell_type": "code",
      "metadata": {
        "id": "Uc8kp2OTWcRb"
      },
      "source": [
        ""
      ],
      "execution_count": null,
      "outputs": []
    }
  ]
}